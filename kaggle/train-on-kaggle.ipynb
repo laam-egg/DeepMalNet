{
 "cells": [
  {
   "cell_type": "markdown",
   "id": "84c316b3",
   "metadata": {},
   "source": [
    "# Train DeepMalNet on Kaggle"
   ]
  },
  {
   "cell_type": "markdown",
   "id": "6b2b458c",
   "metadata": {},
   "source": [
    "## How to run this notebook on Kaggle\n",
    "\n",
    "1. Upload it\n",
    "2. Mount the dataset [(link in README)](https://github.com/laam-egg/DeepMalNet)\n",
    "3. Mount the output of a previous run of this notebook, if any,\n",
    "    to continue training model from the latest previous checkpoint."
   ]
  },
  {
   "cell_type": "markdown",
   "id": "35a1aab1",
   "metadata": {},
   "source": [
    "## How to run this notebook in local (Linux)\n",
    "\n",
    "Assume the model checkpoints directory is `$PROJECT_ROOT/checkpoints`.\n",
    "To make sure:\n",
    "\n",
    "```sh\n",
    "cd $PROJECT_ROOT\n",
    "mkdir -p checkpoints\n",
    "```\n",
    "\n",
    "1. **Use the DeepMalNet conda environment to run the notebook.**\n",
    "2. Inside `$PROJECT_ROOT/kaggle`, create a new directory\n",
    "    named `DeepMalNet-on-Kaggle`, then `cd` to it.\n",
    "3. Create directories for compatibility with Kaggle:\n",
    "    \n",
    "    ```sh\n",
    "    sudo mkdir /kaggle\n",
    "    sudo chown $USER:$USER /kaggle\n",
    "    cd /kaggle\n",
    "    mkdir input\n",
    "    mkdir working\n",
    "    ```\n",
    "\n",
    "4. Create a symlink to the LMDB database containing training\n",
    "    data:\n",
    "\n",
    "    ```sh\n",
    "    cd /kaggle/input\n",
    "    sudo ln -s $PATH_TO_LMDB_DIR ember2024-lmdb\n",
    "    ```\n",
    "\n",
    "5. Create a symlink to the directory that contains the trained\n",
    "    model checkpoints:\n",
    "\n",
    "    ```sh\n",
    "    cd /kaggle/working\n",
    "    sudo ln -s $PROJECT_ROOT/checkpoints checkpoints\n",
    "    ```\n",
    "\n",
    "6. Also create this symlink to the same directory containing\n",
    "    model checkpoints. The reason is we want to run this same\n",
    "    notebook multiple times to continue training the latest\n",
    "    previous model checkpoint.\n",
    "\n",
    "    ```sh\n",
    "    cd /kaggle/input\n",
    "    mkdir -p deepmalnet-on-kaggle\n",
    "    cd deepmalnet-on-kaggle\n",
    "    mkdir -p DeepMalNet-on-Kaggle\n",
    "    cd DeepMalNet-on-Kaggle\n",
    "    sudo ln -s $PROJECT_ROOT/checkpoints checkpoints\n",
    "    ```\n"
   ]
  },
  {
   "cell_type": "code",
   "execution_count": null,
   "id": "fc269e68",
   "metadata": {},
   "outputs": [],
   "source": [
    "DeepMalNet_PATH = \"/kaggle/working/DeepMalNet-on-Kaggle/DeepMalNet\"\n",
    "LMDB_PATH = \"/kaggle/input/ember2024-lmdb\"\n",
    "MODEL_INPUT_DIR_PATH = \"/kaggle/input/deepmalnet-on-kaggle/DeepMalNet-on-Kaggle/checkpoints\"\n",
    "MODEL_OUTPUT_DIR_PATH = \"/kaggle/working/DeepMalNet-on-Kaggle/checkpoints\""
   ]
  },
  {
   "cell_type": "code",
   "execution_count": null,
   "id": "b49140cd",
   "metadata": {},
   "outputs": [],
   "source": [
    "!mkdir -p DeepMalNet-on-Kaggle\n",
    "%cd DeepMalNet-on-Kaggle\n",
    "!rm -rf DeepMalNet\n",
    "!git clone https://github.com/laam-egg/DeepMalNet\n",
    "%cd DeepMalNet\n",
    "!echo \"DeepMalNet commit:\"\n",
    "!git log --pretty=format:'%H' -n 1\n",
    "!echo\n",
    "%pip install -r requirements-kaggle.txt\n",
    "%cd ..\n",
    "!mkdir -p checkpoints\n",
    "%cd ..\n",
    "\n",
    "import sys\n",
    "sys.path.append(DeepMalNet_PATH)"
   ]
  },
  {
   "cell_type": "code",
   "execution_count": null,
   "id": "3283dc91",
   "metadata": {},
   "outputs": [],
   "source": [
    "from DeepMalNet.training import Trainer\n",
    "\n",
    "trainer = Trainer(LMDB_PATH, num_epochs=16)\n",
    "trainer.load_last_checkpoint(MODEL_INPUT_DIR_PATH, sanity_check_if_found=True)\n",
    "trainer.train()\n",
    "trainer.save(MODEL_OUTPUT_DIR_PATH)\n",
    "trainer.sanity_check()"
   ]
  }
 ],
 "metadata": {
  "kernelspec": {
   "display_name": "DeepMalNet",
   "language": "python",
   "name": "python3"
  },
  "language_info": {
   "codemirror_mode": {
    "name": "ipython",
    "version": 3
   },
   "file_extension": ".py",
   "mimetype": "text/x-python",
   "name": "python",
   "nbconvert_exporter": "python",
   "pygments_lexer": "ipython3",
   "version": "3.10.18"
  }
 },
 "nbformat": 4,
 "nbformat_minor": 5
}
